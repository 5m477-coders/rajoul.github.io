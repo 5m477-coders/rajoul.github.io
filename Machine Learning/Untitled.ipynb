{
 "cells": [
  {
   "cell_type": "code",
   "execution_count": 50,
   "metadata": {},
   "outputs": [],
   "source": [
    "import pandas as pd\n",
    "import numpy as np\n"
   ]
  },
  {
   "cell_type": "code",
   "execution_count": 51,
   "metadata": {},
   "outputs": [],
   "source": [
    "train = pd.read_csv('data/train.csv', index_col=0)\n",
    "test = pd.read_csv('data/test.csv', index_col=0)"
   ]
  },
  {
   "cell_type": "code",
   "execution_count": 52,
   "metadata": {},
   "outputs": [
    {
     "data": {
      "text/html": [
       "<div>\n",
       "<style scoped>\n",
       "    .dataframe tbody tr th:only-of-type {\n",
       "        vertical-align: middle;\n",
       "    }\n",
       "\n",
       "    .dataframe tbody tr th {\n",
       "        vertical-align: top;\n",
       "    }\n",
       "\n",
       "    .dataframe thead th {\n",
       "        text-align: right;\n",
       "    }\n",
       "</style>\n",
       "<table border=\"1\" class=\"dataframe\">\n",
       "  <thead>\n",
       "    <tr style=\"text-align: right;\">\n",
       "      <th></th>\n",
       "      <th>Description</th>\n",
       "      <th>Libelle</th>\n",
       "      <th>Marque</th>\n",
       "      <th>prix</th>\n",
       "      <th>Categorie3</th>\n",
       "      <th>Categorie3_Name</th>\n",
       "    </tr>\n",
       "  </thead>\n",
       "  <tbody>\n",
       "    <tr>\n",
       "      <th>20189</th>\n",
       "      <td>Le centenaire de la Grande Guerre - Jean Huon</td>\n",
       "      <td>14-18 La guerre totale</td>\n",
       "      <td>AUCUNE</td>\n",
       "      <td>24.90</td>\n",
       "      <td>1000014152</td>\n",
       "      <td>HISTOIRE DE FRANCE</td>\n",
       "    </tr>\n",
       "    <tr>\n",
       "      <th>6928</th>\n",
       "      <td>Bouilloire sans fil - Puissance:  2200 W - Cap...</td>\n",
       "      <td>Bouilloire en verre / Gris - Art &amp; Cuisine BV22G</td>\n",
       "      <td>A&amp;C Home</td>\n",
       "      <td>21500.00</td>\n",
       "      <td>1000003662</td>\n",
       "      <td>BOUILLOIRE ELECTRIQUE</td>\n",
       "    </tr>\n",
       "    <tr>\n",
       "      <th>3422</th>\n",
       "      <td>LIVRAISON INCLUSE Portique métal/bois 2,30 m 3...</td>\n",
       "      <td>Portique bois/métal 2,30 m 3 agres + 1 PF+ tipi</td>\n",
       "      <td>TRIGANO</td>\n",
       "      <td>356.99</td>\n",
       "      <td>1000002072</td>\n",
       "      <td>BALANCOIRE - PORTIQUE - STATION DE JEUX</td>\n",
       "    </tr>\n",
       "    <tr>\n",
       "      <th>26260</th>\n",
       "      <td>Lit complet composé d'1 cadre de lit, de 2 mat...</td>\n",
       "      <td>Lit complet avec coffre Gris 140x190cm Cosmo</td>\n",
       "      <td>AUCUNE</td>\n",
       "      <td>281100.00</td>\n",
       "      <td>1000015782</td>\n",
       "      <td>LIT COMPLET - MEUBLE ET SOMMIER - MEUBLE ET SO...</td>\n",
       "    </tr>\n",
       "    <tr>\n",
       "      <th>1569</th>\n",
       "      <td>Adhésif PVC toile orange 75X33</td>\n",
       "      <td>Adhésif PVC toile orange 75X33</td>\n",
       "      <td>AUCUNE</td>\n",
       "      <td>4.80</td>\n",
       "      <td>1000001535</td>\n",
       "      <td>RUBAN ADHESIF - ADHESIF PALETTISATION</td>\n",
       "    </tr>\n",
       "  </tbody>\n",
       "</table>\n",
       "</div>"
      ],
      "text/plain": [
       "                                             Description  \\\n",
       "20189      Le centenaire de la Grande Guerre - Jean Huon   \n",
       "6928   Bouilloire sans fil - Puissance:  2200 W - Cap...   \n",
       "3422   LIVRAISON INCLUSE Portique métal/bois 2,30 m 3...   \n",
       "26260  Lit complet composé d'1 cadre de lit, de 2 mat...   \n",
       "1569                      Adhésif PVC toile orange 75X33   \n",
       "\n",
       "                                                Libelle    Marque       prix  \\\n",
       "20189                            14-18 La guerre totale    AUCUNE      24.90   \n",
       "6928   Bouilloire en verre / Gris - Art & Cuisine BV22G  A&C Home   21500.00   \n",
       "3422    Portique bois/métal 2,30 m 3 agres + 1 PF+ tipi   TRIGANO     356.99   \n",
       "26260      Lit complet avec coffre Gris 140x190cm Cosmo    AUCUNE  281100.00   \n",
       "1569                     Adhésif PVC toile orange 75X33    AUCUNE       4.80   \n",
       "\n",
       "       Categorie3                                    Categorie3_Name  \n",
       "20189  1000014152                                 HISTOIRE DE FRANCE  \n",
       "6928   1000003662                              BOUILLOIRE ELECTRIQUE  \n",
       "3422   1000002072           BALANCOIRE - PORTIQUE - STATION DE JEUX   \n",
       "26260  1000015782  LIT COMPLET - MEUBLE ET SOMMIER - MEUBLE ET SO...  \n",
       "1569   1000001535              RUBAN ADHESIF - ADHESIF PALETTISATION  "
      ]
     },
     "execution_count": 52,
     "metadata": {},
     "output_type": "execute_result"
    }
   ],
   "source": [
    "train.head()"
   ]
  },
  {
   "cell_type": "code",
   "execution_count": 53,
   "metadata": {},
   "outputs": [
    {
     "data": {
      "text/html": [
       "<div>\n",
       "<style scoped>\n",
       "    .dataframe tbody tr th:only-of-type {\n",
       "        vertical-align: middle;\n",
       "    }\n",
       "\n",
       "    .dataframe tbody tr th {\n",
       "        vertical-align: top;\n",
       "    }\n",
       "\n",
       "    .dataframe thead th {\n",
       "        text-align: right;\n",
       "    }\n",
       "</style>\n",
       "<table border=\"1\" class=\"dataframe\">\n",
       "  <thead>\n",
       "    <tr style=\"text-align: right;\">\n",
       "      <th></th>\n",
       "      <th>Description</th>\n",
       "      <th>Libelle</th>\n",
       "      <th>Marque</th>\n",
       "      <th>prix</th>\n",
       "      <th>Categorie3</th>\n",
       "      <th>Categorie3_Name</th>\n",
       "    </tr>\n",
       "  </thead>\n",
       "  <tbody>\n",
       "    <tr>\n",
       "      <th>20514</th>\n",
       "      <td>Mini Manuel</td>\n",
       "      <td>Architecture de l'ordinateur</td>\n",
       "      <td>AUCUNE</td>\n",
       "      <td>16.39</td>\n",
       "      <td>1000014169</td>\n",
       "      <td>MATERIEL INFORMATIQUE</td>\n",
       "    </tr>\n",
       "    <tr>\n",
       "      <th>18416</th>\n",
       "      <td>Trop bon !</td>\n",
       "      <td>Les saveurs de Méditerranée</td>\n",
       "      <td>AUCUNE</td>\n",
       "      <td>8.94</td>\n",
       "      <td>1000014071</td>\n",
       "      <td>CUISINE DES REGIONS</td>\n",
       "    </tr>\n",
       "    <tr>\n",
       "      <th>15794</th>\n",
       "      <td>Plastique - 30 mm - Noir</td>\n",
       "      <td>PRYM Bouclip 30 mm Plastique Noir</td>\n",
       "      <td>PRYM</td>\n",
       "      <td>3.00</td>\n",
       "      <td>1000012133</td>\n",
       "      <td>FERMETURE - BOUTON - ZIP</td>\n",
       "    </tr>\n",
       "    <tr>\n",
       "      <th>17167</th>\n",
       "      <td>De Peter Conradi aux éditions PLON</td>\n",
       "      <td>Royale Europe</td>\n",
       "      <td>AUCUNE</td>\n",
       "      <td>23.50</td>\n",
       "      <td>1000014008</td>\n",
       "      <td>ACTUALITES MEDIATIQUES</td>\n",
       "    </tr>\n",
       "    <tr>\n",
       "      <th>8823</th>\n",
       "      <td>Ordinateur de bureau - Processeur Intel Core i...</td>\n",
       "      <td>Asus PC Gamer M52AD-FR001S</td>\n",
       "      <td>ASUS</td>\n",
       "      <td>1020500.00</td>\n",
       "      <td>1000004181</td>\n",
       "      <td>UNITE CENTRALE SEULE - MINI PC</td>\n",
       "    </tr>\n",
       "  </tbody>\n",
       "</table>\n",
       "</div>"
      ],
      "text/plain": [
       "                                             Description  \\\n",
       "20514                                        Mini Manuel   \n",
       "18416                                         Trop bon !   \n",
       "15794                           Plastique - 30 mm - Noir   \n",
       "17167                 De Peter Conradi aux éditions PLON   \n",
       "8823   Ordinateur de bureau - Processeur Intel Core i...   \n",
       "\n",
       "                                 Libelle  Marque        prix  Categorie3  \\\n",
       "20514       Architecture de l'ordinateur  AUCUNE       16.39  1000014169   \n",
       "18416        Les saveurs de Méditerranée  AUCUNE        8.94  1000014071   \n",
       "15794  PRYM Bouclip 30 mm Plastique Noir    PRYM        3.00  1000012133   \n",
       "17167                      Royale Europe  AUCUNE       23.50  1000014008   \n",
       "8823          Asus PC Gamer M52AD-FR001S    ASUS  1020500.00  1000004181   \n",
       "\n",
       "                      Categorie3_Name  \n",
       "20514           MATERIEL INFORMATIQUE  \n",
       "18416             CUISINE DES REGIONS  \n",
       "15794        FERMETURE - BOUTON - ZIP  \n",
       "17167          ACTUALITES MEDIATIQUES  \n",
       "8823   UNITE CENTRALE SEULE - MINI PC  "
      ]
     },
     "execution_count": 53,
     "metadata": {},
     "output_type": "execute_result"
    }
   ],
   "source": [
    "test.head()"
   ]
  },
  {
   "cell_type": "code",
   "execution_count": 54,
   "metadata": {},
   "outputs": [],
   "source": [
    "from sklearn.metrics import accuracy_score\n",
    "from sklearn.linear_model import SGDClassifier\n",
    "from sklearn.naive_bayes import MultinomialNB\n",
    "from sklearn.feature_extraction.text import CountVectorizer"
   ]
  },
  {
   "cell_type": "code",
   "execution_count": 55,
   "metadata": {},
   "outputs": [],
   "source": [
    "model = MultinomialNB()"
   ]
  },
  {
   "cell_type": "code",
   "execution_count": 56,
   "metadata": {},
   "outputs": [
    {
     "data": {
      "text/plain": [
       "['__abs__',\n",
       " '__add__',\n",
       " '__array_priority__',\n",
       " '__bool__',\n",
       " '__class__',\n",
       " '__delattr__',\n",
       " '__dict__',\n",
       " '__dir__',\n",
       " '__div__',\n",
       " '__doc__',\n",
       " '__eq__',\n",
       " '__format__',\n",
       " '__ge__',\n",
       " '__getattr__',\n",
       " '__getattribute__',\n",
       " '__getitem__',\n",
       " '__gt__',\n",
       " '__hash__',\n",
       " '__iadd__',\n",
       " '__idiv__',\n",
       " '__imul__',\n",
       " '__init__',\n",
       " '__init_subclass__',\n",
       " '__isub__',\n",
       " '__iter__',\n",
       " '__itruediv__',\n",
       " '__le__',\n",
       " '__len__',\n",
       " '__lt__',\n",
       " '__matmul__',\n",
       " '__module__',\n",
       " '__mul__',\n",
       " '__ne__',\n",
       " '__neg__',\n",
       " '__new__',\n",
       " '__nonzero__',\n",
       " '__pow__',\n",
       " '__radd__',\n",
       " '__rdiv__',\n",
       " '__reduce__',\n",
       " '__reduce_ex__',\n",
       " '__repr__',\n",
       " '__rmatmul__',\n",
       " '__rmul__',\n",
       " '__rsub__',\n",
       " '__rtruediv__',\n",
       " '__setattr__',\n",
       " '__setitem__',\n",
       " '__sizeof__',\n",
       " '__str__',\n",
       " '__sub__',\n",
       " '__subclasshook__',\n",
       " '__truediv__',\n",
       " '__weakref__',\n",
       " '_add_dense',\n",
       " '_add_sparse',\n",
       " '_arg_min_or_max',\n",
       " '_arg_min_or_max_axis',\n",
       " '_binopt',\n",
       " '_boolean_index_to_array',\n",
       " '_check_boolean',\n",
       " '_check_ellipsis',\n",
       " '_cs_matrix__get_has_canonical_format',\n",
       " '_cs_matrix__get_sorted',\n",
       " '_cs_matrix__set_has_canonical_format',\n",
       " '_cs_matrix__set_sorted',\n",
       " '_deduped_data',\n",
       " '_divide',\n",
       " '_divide_sparse',\n",
       " '_get_dtype',\n",
       " '_get_row_slice',\n",
       " '_get_single_element',\n",
       " '_get_submatrix',\n",
       " '_imag',\n",
       " '_index_to_arrays',\n",
       " '_inequality',\n",
       " '_insert_many',\n",
       " '_maximum_minimum',\n",
       " '_min_or_max',\n",
       " '_min_or_max_axis',\n",
       " '_minor_reduce',\n",
       " '_mul_multivector',\n",
       " '_mul_scalar',\n",
       " '_mul_sparse_matrix',\n",
       " '_mul_vector',\n",
       " '_prepare_indices',\n",
       " '_process_toarray_args',\n",
       " '_real',\n",
       " '_rsub_dense',\n",
       " '_scalar_binopt',\n",
       " '_set_dtype',\n",
       " '_set_many',\n",
       " '_set_self',\n",
       " '_setdiag',\n",
       " '_shape',\n",
       " '_slicetoarange',\n",
       " '_sub_dense',\n",
       " '_sub_sparse',\n",
       " '_swap',\n",
       " '_unpack_index',\n",
       " '_with_data',\n",
       " '_zero_many',\n",
       " 'arcsin',\n",
       " 'arcsinh',\n",
       " 'arctan',\n",
       " 'arctanh',\n",
       " 'argmax',\n",
       " 'argmin',\n",
       " 'asformat',\n",
       " 'asfptype',\n",
       " 'astype',\n",
       " 'ceil',\n",
       " 'check_format',\n",
       " 'conj',\n",
       " 'conjugate',\n",
       " 'copy',\n",
       " 'count_nonzero',\n",
       " 'data',\n",
       " 'deg2rad',\n",
       " 'diagonal',\n",
       " 'dot',\n",
       " 'dtype',\n",
       " 'eliminate_zeros',\n",
       " 'expm1',\n",
       " 'floor',\n",
       " 'format',\n",
       " 'getH',\n",
       " 'get_shape',\n",
       " 'getcol',\n",
       " 'getformat',\n",
       " 'getmaxprint',\n",
       " 'getnnz',\n",
       " 'getrow',\n",
       " 'has_canonical_format',\n",
       " 'has_sorted_indices',\n",
       " 'indices',\n",
       " 'indptr',\n",
       " 'log1p',\n",
       " 'max',\n",
       " 'maximum',\n",
       " 'maxprint',\n",
       " 'mean',\n",
       " 'min',\n",
       " 'minimum',\n",
       " 'multiply',\n",
       " 'ndim',\n",
       " 'nnz',\n",
       " 'nonzero',\n",
       " 'power',\n",
       " 'prune',\n",
       " 'rad2deg',\n",
       " 'reshape',\n",
       " 'resize',\n",
       " 'rint',\n",
       " 'set_shape',\n",
       " 'setdiag',\n",
       " 'shape',\n",
       " 'sign',\n",
       " 'sin',\n",
       " 'sinh',\n",
       " 'sort_indices',\n",
       " 'sorted_indices',\n",
       " 'sqrt',\n",
       " 'sum',\n",
       " 'sum_duplicates',\n",
       " 'tan',\n",
       " 'tanh',\n",
       " 'toarray',\n",
       " 'tobsr',\n",
       " 'tocoo',\n",
       " 'tocsc',\n",
       " 'tocsr',\n",
       " 'todense',\n",
       " 'todia',\n",
       " 'todok',\n",
       " 'tolil',\n",
       " 'transpose',\n",
       " 'trunc']"
      ]
     },
     "execution_count": 56,
     "metadata": {},
     "output_type": "execute_result"
    }
   ],
   "source": [
    "vectorizer = CountVectorizer()\n",
    "X_train=vectorizer.fit_transform(train.Libelle)\n",
    "X_test=vectorizer.transform(test.Libelle)\n",
    "y_train=train['Categorie3']\n",
    "y_test=test['Categorie3']\n",
    "dir(X_train)\n",
    "\n"
   ]
  },
  {
   "cell_type": "code",
   "execution_count": 57,
   "metadata": {},
   "outputs": [
    {
     "data": {
      "text/plain": [
       "array([1, 1, 1, ..., 1, 1, 1], dtype=int64)"
      ]
     },
     "execution_count": 57,
     "metadata": {},
     "output_type": "execute_result"
    }
   ],
   "source": [
    "X_train.data"
   ]
  },
  {
   "cell_type": "code",
   "execution_count": 58,
   "metadata": {},
   "outputs": [
    {
     "data": {
      "text/plain": [
       "0.642899233942251"
      ]
     },
     "execution_count": 58,
     "metadata": {},
     "output_type": "execute_result"
    }
   ],
   "source": [
    "model.fit(X_train,y_train)\n",
    "model.score(X_test,y_test)"
   ]
  },
  {
   "cell_type": "code",
   "execution_count": 59,
   "metadata": {},
   "outputs": [
    {
     "data": {
      "text/plain": [
       "0.642899233942251"
      ]
     },
     "execution_count": 59,
     "metadata": {},
     "output_type": "execute_result"
    }
   ],
   "source": [
    "accuracy_score(y_test,model.predict(X_test))"
   ]
  },
  {
   "cell_type": "markdown",
   "metadata": {},
   "source": [
    "# autre champs\n"
   ]
  },
  {
   "cell_type": "code",
   "execution_count": 64,
   "metadata": {},
   "outputs": [
    {
     "data": {
      "text/html": [
       "<div>\n",
       "<style scoped>\n",
       "    .dataframe tbody tr th:only-of-type {\n",
       "        vertical-align: middle;\n",
       "    }\n",
       "\n",
       "    .dataframe tbody tr th {\n",
       "        vertical-align: top;\n",
       "    }\n",
       "\n",
       "    .dataframe thead th {\n",
       "        text-align: right;\n",
       "    }\n",
       "</style>\n",
       "<table border=\"1\" class=\"dataframe\">\n",
       "  <thead>\n",
       "    <tr style=\"text-align: right;\">\n",
       "      <th></th>\n",
       "      <th>Description</th>\n",
       "      <th>Libelle</th>\n",
       "      <th>Marque</th>\n",
       "      <th>prix</th>\n",
       "      <th>Categorie3</th>\n",
       "      <th>Categorie3_Name</th>\n",
       "      <th>texte</th>\n",
       "    </tr>\n",
       "  </thead>\n",
       "  <tbody>\n",
       "    <tr>\n",
       "      <th>20514</th>\n",
       "      <td>Mini Manuel</td>\n",
       "      <td>Architecture de l'ordinateur</td>\n",
       "      <td>AUCUNE</td>\n",
       "      <td>16.39</td>\n",
       "      <td>1000014169</td>\n",
       "      <td>MATERIEL INFORMATIQUE</td>\n",
       "      <td>Mini Manuel Architecture de l'ordinateur AUCUNE</td>\n",
       "    </tr>\n",
       "    <tr>\n",
       "      <th>18416</th>\n",
       "      <td>Trop bon !</td>\n",
       "      <td>Les saveurs de Méditerranée</td>\n",
       "      <td>AUCUNE</td>\n",
       "      <td>8.94</td>\n",
       "      <td>1000014071</td>\n",
       "      <td>CUISINE DES REGIONS</td>\n",
       "      <td>Trop bon ! Les saveurs de Méditerranée AUCUNE</td>\n",
       "    </tr>\n",
       "    <tr>\n",
       "      <th>15794</th>\n",
       "      <td>Plastique - 30 mm - Noir</td>\n",
       "      <td>PRYM Bouclip 30 mm Plastique Noir</td>\n",
       "      <td>PRYM</td>\n",
       "      <td>3.00</td>\n",
       "      <td>1000012133</td>\n",
       "      <td>FERMETURE - BOUTON - ZIP</td>\n",
       "      <td>Plastique - 30 mm - Noir PRYM Bouclip 30 mm Pl...</td>\n",
       "    </tr>\n",
       "    <tr>\n",
       "      <th>17167</th>\n",
       "      <td>De Peter Conradi aux éditions PLON</td>\n",
       "      <td>Royale Europe</td>\n",
       "      <td>AUCUNE</td>\n",
       "      <td>23.50</td>\n",
       "      <td>1000014008</td>\n",
       "      <td>ACTUALITES MEDIATIQUES</td>\n",
       "      <td>De Peter Conradi aux éditions PLON Royale Euro...</td>\n",
       "    </tr>\n",
       "    <tr>\n",
       "      <th>8823</th>\n",
       "      <td>Ordinateur de bureau - Processeur Intel Core i...</td>\n",
       "      <td>Asus PC Gamer M52AD-FR001S</td>\n",
       "      <td>ASUS</td>\n",
       "      <td>1020500.00</td>\n",
       "      <td>1000004181</td>\n",
       "      <td>UNITE CENTRALE SEULE - MINI PC</td>\n",
       "      <td>Ordinateur de bureau - Processeur Intel Core i...</td>\n",
       "    </tr>\n",
       "  </tbody>\n",
       "</table>\n",
       "</div>"
      ],
      "text/plain": [
       "                                             Description  \\\n",
       "20514                                        Mini Manuel   \n",
       "18416                                         Trop bon !   \n",
       "15794                           Plastique - 30 mm - Noir   \n",
       "17167                 De Peter Conradi aux éditions PLON   \n",
       "8823   Ordinateur de bureau - Processeur Intel Core i...   \n",
       "\n",
       "                                 Libelle  Marque        prix  Categorie3  \\\n",
       "20514       Architecture de l'ordinateur  AUCUNE       16.39  1000014169   \n",
       "18416        Les saveurs de Méditerranée  AUCUNE        8.94  1000014071   \n",
       "15794  PRYM Bouclip 30 mm Plastique Noir    PRYM        3.00  1000012133   \n",
       "17167                      Royale Europe  AUCUNE       23.50  1000014008   \n",
       "8823          Asus PC Gamer M52AD-FR001S    ASUS  1020500.00  1000004181   \n",
       "\n",
       "                      Categorie3_Name  \\\n",
       "20514           MATERIEL INFORMATIQUE   \n",
       "18416             CUISINE DES REGIONS   \n",
       "15794        FERMETURE - BOUTON - ZIP   \n",
       "17167          ACTUALITES MEDIATIQUES   \n",
       "8823   UNITE CENTRALE SEULE - MINI PC   \n",
       "\n",
       "                                                   texte  \n",
       "20514    Mini Manuel Architecture de l'ordinateur AUCUNE  \n",
       "18416      Trop bon ! Les saveurs de Méditerranée AUCUNE  \n",
       "15794  Plastique - 30 mm - Noir PRYM Bouclip 30 mm Pl...  \n",
       "17167  De Peter Conradi aux éditions PLON Royale Euro...  \n",
       "8823   Ordinateur de bureau - Processeur Intel Core i...  "
      ]
     },
     "execution_count": 64,
     "metadata": {},
     "output_type": "execute_result"
    }
   ],
   "source": [
    "train['texte'] = train['Description'] + ' ' + train['Libelle'] + ' ' + train['Marque']\n",
    "test['texte']=test['Description'] + ' ' + test['Libelle'] + ' ' + test['Marque']\n",
    "test.head()"
   ]
  },
  {
   "cell_type": "code",
   "execution_count": 71,
   "metadata": {},
   "outputs": [
    {
     "data": {
      "text/plain": [
       "['__abs__',\n",
       " '__add__',\n",
       " '__array_priority__',\n",
       " '__bool__',\n",
       " '__class__',\n",
       " '__delattr__',\n",
       " '__dict__',\n",
       " '__dir__',\n",
       " '__div__',\n",
       " '__doc__',\n",
       " '__eq__',\n",
       " '__format__',\n",
       " '__ge__',\n",
       " '__getattr__',\n",
       " '__getattribute__',\n",
       " '__getitem__',\n",
       " '__gt__',\n",
       " '__hash__',\n",
       " '__iadd__',\n",
       " '__idiv__',\n",
       " '__imul__',\n",
       " '__init__',\n",
       " '__init_subclass__',\n",
       " '__isub__',\n",
       " '__iter__',\n",
       " '__itruediv__',\n",
       " '__le__',\n",
       " '__len__',\n",
       " '__lt__',\n",
       " '__matmul__',\n",
       " '__module__',\n",
       " '__mul__',\n",
       " '__ne__',\n",
       " '__neg__',\n",
       " '__new__',\n",
       " '__nonzero__',\n",
       " '__pow__',\n",
       " '__radd__',\n",
       " '__rdiv__',\n",
       " '__reduce__',\n",
       " '__reduce_ex__',\n",
       " '__repr__',\n",
       " '__rmatmul__',\n",
       " '__rmul__',\n",
       " '__rsub__',\n",
       " '__rtruediv__',\n",
       " '__setattr__',\n",
       " '__setitem__',\n",
       " '__sizeof__',\n",
       " '__str__',\n",
       " '__sub__',\n",
       " '__subclasshook__',\n",
       " '__truediv__',\n",
       " '__weakref__',\n",
       " '_add_dense',\n",
       " '_add_sparse',\n",
       " '_arg_min_or_max',\n",
       " '_arg_min_or_max_axis',\n",
       " '_binopt',\n",
       " '_boolean_index_to_array',\n",
       " '_check_boolean',\n",
       " '_check_ellipsis',\n",
       " '_cs_matrix__get_has_canonical_format',\n",
       " '_cs_matrix__get_sorted',\n",
       " '_cs_matrix__set_has_canonical_format',\n",
       " '_cs_matrix__set_sorted',\n",
       " '_deduped_data',\n",
       " '_divide',\n",
       " '_divide_sparse',\n",
       " '_get_dtype',\n",
       " '_get_row_slice',\n",
       " '_get_single_element',\n",
       " '_get_submatrix',\n",
       " '_imag',\n",
       " '_index_to_arrays',\n",
       " '_inequality',\n",
       " '_insert_many',\n",
       " '_maximum_minimum',\n",
       " '_min_or_max',\n",
       " '_min_or_max_axis',\n",
       " '_minor_reduce',\n",
       " '_mul_multivector',\n",
       " '_mul_scalar',\n",
       " '_mul_sparse_matrix',\n",
       " '_mul_vector',\n",
       " '_prepare_indices',\n",
       " '_process_toarray_args',\n",
       " '_real',\n",
       " '_rsub_dense',\n",
       " '_scalar_binopt',\n",
       " '_set_dtype',\n",
       " '_set_many',\n",
       " '_set_self',\n",
       " '_setdiag',\n",
       " '_shape',\n",
       " '_slicetoarange',\n",
       " '_sub_dense',\n",
       " '_sub_sparse',\n",
       " '_swap',\n",
       " '_unpack_index',\n",
       " '_with_data',\n",
       " '_zero_many',\n",
       " 'arcsin',\n",
       " 'arcsinh',\n",
       " 'arctan',\n",
       " 'arctanh',\n",
       " 'argmax',\n",
       " 'argmin',\n",
       " 'asformat',\n",
       " 'asfptype',\n",
       " 'astype',\n",
       " 'ceil',\n",
       " 'check_format',\n",
       " 'conj',\n",
       " 'conjugate',\n",
       " 'copy',\n",
       " 'count_nonzero',\n",
       " 'data',\n",
       " 'deg2rad',\n",
       " 'diagonal',\n",
       " 'dot',\n",
       " 'dtype',\n",
       " 'eliminate_zeros',\n",
       " 'expm1',\n",
       " 'floor',\n",
       " 'format',\n",
       " 'getH',\n",
       " 'get_shape',\n",
       " 'getcol',\n",
       " 'getformat',\n",
       " 'getmaxprint',\n",
       " 'getnnz',\n",
       " 'getrow',\n",
       " 'has_canonical_format',\n",
       " 'has_sorted_indices',\n",
       " 'indices',\n",
       " 'indptr',\n",
       " 'log1p',\n",
       " 'max',\n",
       " 'maximum',\n",
       " 'maxprint',\n",
       " 'mean',\n",
       " 'min',\n",
       " 'minimum',\n",
       " 'multiply',\n",
       " 'ndim',\n",
       " 'nnz',\n",
       " 'nonzero',\n",
       " 'power',\n",
       " 'prune',\n",
       " 'rad2deg',\n",
       " 'reshape',\n",
       " 'resize',\n",
       " 'rint',\n",
       " 'set_shape',\n",
       " 'setdiag',\n",
       " 'shape',\n",
       " 'sign',\n",
       " 'sin',\n",
       " 'sinh',\n",
       " 'sort_indices',\n",
       " 'sorted_indices',\n",
       " 'sqrt',\n",
       " 'sum',\n",
       " 'sum_duplicates',\n",
       " 'tan',\n",
       " 'tanh',\n",
       " 'toarray',\n",
       " 'tobsr',\n",
       " 'tocoo',\n",
       " 'tocsc',\n",
       " 'tocsr',\n",
       " 'todense',\n",
       " 'todia',\n",
       " 'todok',\n",
       " 'tolil',\n",
       " 'transpose',\n",
       " 'trunc']"
      ]
     },
     "execution_count": 71,
     "metadata": {},
     "output_type": "execute_result"
    }
   ],
   "source": [
    "X_train=vectorizer.fit_transform(train.texte.values.astype('U'))\n",
    "X_test=vectorizer.transform(test.texte.values.astype('U'))\n",
    "y_train=train['Categorie3']\n",
    "y_test=test['Categorie3']\n",
    "dir(X_train)"
   ]
  },
  {
   "cell_type": "code",
   "execution_count": 72,
   "metadata": {},
   "outputs": [
    {
     "data": {
      "text/plain": [
       "0.696081319976429"
      ]
     },
     "execution_count": 72,
     "metadata": {},
     "output_type": "execute_result"
    }
   ],
   "source": [
    "model.fit(X_train,y_train)\n",
    "model.score(X_test,y_test)"
   ]
  },
  {
   "cell_type": "code",
   "execution_count": 73,
   "metadata": {},
   "outputs": [
    {
     "data": {
      "text/plain": [
       "0.696081319976429"
      ]
     },
     "execution_count": 73,
     "metadata": {},
     "output_type": "execute_result"
    }
   ],
   "source": [
    "accuracy_score(y_test,model.predict(X_test))"
   ]
  },
  {
   "cell_type": "markdown",
   "metadata": {},
   "source": [
    "#  TF/IDF"
   ]
  },
  {
   "cell_type": "code",
   "execution_count": 74,
   "metadata": {},
   "outputs": [
    {
     "data": {
      "text/plain": [
       "['__abs__',\n",
       " '__add__',\n",
       " '__array_priority__',\n",
       " '__bool__',\n",
       " '__class__',\n",
       " '__delattr__',\n",
       " '__dict__',\n",
       " '__dir__',\n",
       " '__div__',\n",
       " '__doc__',\n",
       " '__eq__',\n",
       " '__format__',\n",
       " '__ge__',\n",
       " '__getattr__',\n",
       " '__getattribute__',\n",
       " '__getitem__',\n",
       " '__gt__',\n",
       " '__hash__',\n",
       " '__iadd__',\n",
       " '__idiv__',\n",
       " '__imul__',\n",
       " '__init__',\n",
       " '__init_subclass__',\n",
       " '__isub__',\n",
       " '__iter__',\n",
       " '__itruediv__',\n",
       " '__le__',\n",
       " '__len__',\n",
       " '__lt__',\n",
       " '__matmul__',\n",
       " '__module__',\n",
       " '__mul__',\n",
       " '__ne__',\n",
       " '__neg__',\n",
       " '__new__',\n",
       " '__nonzero__',\n",
       " '__pow__',\n",
       " '__radd__',\n",
       " '__rdiv__',\n",
       " '__reduce__',\n",
       " '__reduce_ex__',\n",
       " '__repr__',\n",
       " '__rmatmul__',\n",
       " '__rmul__',\n",
       " '__rsub__',\n",
       " '__rtruediv__',\n",
       " '__setattr__',\n",
       " '__setitem__',\n",
       " '__sizeof__',\n",
       " '__str__',\n",
       " '__sub__',\n",
       " '__subclasshook__',\n",
       " '__truediv__',\n",
       " '__weakref__',\n",
       " '_add_dense',\n",
       " '_add_sparse',\n",
       " '_arg_min_or_max',\n",
       " '_arg_min_or_max_axis',\n",
       " '_binopt',\n",
       " '_boolean_index_to_array',\n",
       " '_check_boolean',\n",
       " '_check_ellipsis',\n",
       " '_cs_matrix__get_has_canonical_format',\n",
       " '_cs_matrix__get_sorted',\n",
       " '_cs_matrix__set_has_canonical_format',\n",
       " '_cs_matrix__set_sorted',\n",
       " '_deduped_data',\n",
       " '_divide',\n",
       " '_divide_sparse',\n",
       " '_get_dtype',\n",
       " '_get_row_slice',\n",
       " '_get_single_element',\n",
       " '_get_submatrix',\n",
       " '_imag',\n",
       " '_index_to_arrays',\n",
       " '_inequality',\n",
       " '_insert_many',\n",
       " '_maximum_minimum',\n",
       " '_min_or_max',\n",
       " '_min_or_max_axis',\n",
       " '_minor_reduce',\n",
       " '_mul_multivector',\n",
       " '_mul_scalar',\n",
       " '_mul_sparse_matrix',\n",
       " '_mul_vector',\n",
       " '_prepare_indices',\n",
       " '_process_toarray_args',\n",
       " '_real',\n",
       " '_rsub_dense',\n",
       " '_scalar_binopt',\n",
       " '_set_dtype',\n",
       " '_set_many',\n",
       " '_set_self',\n",
       " '_setdiag',\n",
       " '_shape',\n",
       " '_slicetoarange',\n",
       " '_sub_dense',\n",
       " '_sub_sparse',\n",
       " '_swap',\n",
       " '_unpack_index',\n",
       " '_with_data',\n",
       " '_zero_many',\n",
       " 'arcsin',\n",
       " 'arcsinh',\n",
       " 'arctan',\n",
       " 'arctanh',\n",
       " 'argmax',\n",
       " 'argmin',\n",
       " 'asformat',\n",
       " 'asfptype',\n",
       " 'astype',\n",
       " 'ceil',\n",
       " 'check_format',\n",
       " 'conj',\n",
       " 'conjugate',\n",
       " 'copy',\n",
       " 'count_nonzero',\n",
       " 'data',\n",
       " 'deg2rad',\n",
       " 'diagonal',\n",
       " 'dot',\n",
       " 'dtype',\n",
       " 'eliminate_zeros',\n",
       " 'expm1',\n",
       " 'floor',\n",
       " 'format',\n",
       " 'getH',\n",
       " 'get_shape',\n",
       " 'getcol',\n",
       " 'getformat',\n",
       " 'getmaxprint',\n",
       " 'getnnz',\n",
       " 'getrow',\n",
       " 'has_canonical_format',\n",
       " 'has_sorted_indices',\n",
       " 'indices',\n",
       " 'indptr',\n",
       " 'log1p',\n",
       " 'max',\n",
       " 'maximum',\n",
       " 'maxprint',\n",
       " 'mean',\n",
       " 'min',\n",
       " 'minimum',\n",
       " 'multiply',\n",
       " 'ndim',\n",
       " 'nnz',\n",
       " 'nonzero',\n",
       " 'power',\n",
       " 'prune',\n",
       " 'rad2deg',\n",
       " 'reshape',\n",
       " 'resize',\n",
       " 'rint',\n",
       " 'set_shape',\n",
       " 'setdiag',\n",
       " 'shape',\n",
       " 'sign',\n",
       " 'sin',\n",
       " 'sinh',\n",
       " 'sort_indices',\n",
       " 'sorted_indices',\n",
       " 'sqrt',\n",
       " 'sum',\n",
       " 'sum_duplicates',\n",
       " 'tan',\n",
       " 'tanh',\n",
       " 'toarray',\n",
       " 'tobsr',\n",
       " 'tocoo',\n",
       " 'tocsc',\n",
       " 'tocsr',\n",
       " 'todense',\n",
       " 'todia',\n",
       " 'todok',\n",
       " 'tolil',\n",
       " 'transpose',\n",
       " 'trunc']"
      ]
     },
     "execution_count": 74,
     "metadata": {},
     "output_type": "execute_result"
    }
   ],
   "source": [
    "from sklearn.feature_extraction.text import TfidfVectorizer\n",
    "vectorizer = TfidfVectorizer()\n",
    "X_train=vectorizer.fit_transform(train.texte.values.astype('U'))\n",
    "X_test=vectorizer.transform(test.texte.values.astype('U'))\n",
    "y_train=train['Categorie3']\n",
    "y_test=test['Categorie3']\n",
    "dir(X_train)"
   ]
  },
  {
   "cell_type": "code",
   "execution_count": 75,
   "metadata": {},
   "outputs": [
    {
     "data": {
      "text/plain": [
       "0.702857984678845"
      ]
     },
     "execution_count": 75,
     "metadata": {},
     "output_type": "execute_result"
    }
   ],
   "source": [
    "model.fit(X_train,y_train)\n",
    "model.score(X_test,y_test)"
   ]
  },
  {
   "cell_type": "code",
   "execution_count": 76,
   "metadata": {},
   "outputs": [
    {
     "data": {
      "text/plain": [
       "0.702857984678845"
      ]
     },
     "execution_count": 76,
     "metadata": {},
     "output_type": "execute_result"
    }
   ],
   "source": [
    "accuracy_score(y_test,model.predict(X_test))"
   ]
  },
  {
   "cell_type": "markdown",
   "metadata": {},
   "source": [
    "# Bigrams"
   ]
  },
  {
   "cell_type": "code",
   "execution_count": 85,
   "metadata": {},
   "outputs": [],
   "source": [
    "vectorizer = TfidfVectorizer(ngram_range=(1,2))\n",
    "X_train=vectorizer.fit_transform(train.texte.values.astype('U'))\n",
    "X_test=vectorizer.transform(test.texte.values.astype('U'))\n",
    "y_train=train['Categorie3']\n",
    "y_test=test['Categorie3']\n"
   ]
  },
  {
   "cell_type": "code",
   "execution_count": 86,
   "metadata": {},
   "outputs": [
    {
     "data": {
      "text/plain": [
       "0.6971125515615793"
      ]
     },
     "execution_count": 86,
     "metadata": {},
     "output_type": "execute_result"
    }
   ],
   "source": [
    "model.fit(X_train,y_train)\n",
    "model.score(X_test,y_test)"
   ]
  },
  {
   "cell_type": "code",
   "execution_count": 80,
   "metadata": {},
   "outputs": [
    {
     "data": {
      "text/plain": [
       "0.6971125515615793"
      ]
     },
     "execution_count": 80,
     "metadata": {},
     "output_type": "execute_result"
    }
   ],
   "source": [
    "accuracy_score(y_test,model.predict(X_test))"
   ]
  },
  {
   "cell_type": "markdown",
   "metadata": {},
   "source": [
    "# Bag of characters (1)"
   ]
  },
  {
   "cell_type": "code",
   "execution_count": 87,
   "metadata": {},
   "outputs": [],
   "source": [
    "vectorizer = CountVectorizer(analyzer=u'char_wb')\n",
    "X_train=vectorizer.fit_transform(train.texte.values.astype('U'))\n",
    "X_test=vectorizer.transform(test.texte.values.astype('U'))\n",
    "y_train=train['Categorie3']\n",
    "y_test=test['Categorie3']\n"
   ]
  },
  {
   "cell_type": "code",
   "execution_count": 88,
   "metadata": {},
   "outputs": [
    {
     "data": {
      "text/plain": [
       "0.43930465527401297"
      ]
     },
     "execution_count": 88,
     "metadata": {},
     "output_type": "execute_result"
    }
   ],
   "source": [
    "model.fit(X_train,y_train)\n",
    "model.score(X_test,y_test)"
   ]
  },
  {
   "cell_type": "code",
   "execution_count": 89,
   "metadata": {},
   "outputs": [
    {
     "data": {
      "text/plain": [
       "0.43930465527401297"
      ]
     },
     "execution_count": 89,
     "metadata": {},
     "output_type": "execute_result"
    }
   ],
   "source": [
    "accuracy_score(y_test,model.predict(X_test))"
   ]
  },
  {
   "cell_type": "markdown",
   "metadata": {},
   "source": [
    "# Bag of characters (3)"
   ]
  },
  {
   "cell_type": "code",
   "execution_count": 98,
   "metadata": {},
   "outputs": [],
   "source": [
    "vectorizer = CountVectorizer(analyzer=u'char_wb', ngram_range=(3,3))"
   ]
  },
  {
   "cell_type": "code",
   "execution_count": 99,
   "metadata": {},
   "outputs": [],
   "source": [
    "X_train=vectorizer.fit_transform(train.texte.values.astype('U'))\n",
    "X_test=vectorizer.transform(test.texte.values.astype('U'))\n",
    "y_train=train['Categorie3']\n",
    "y_test=test['Categorie3']"
   ]
  },
  {
   "cell_type": "code",
   "execution_count": 100,
   "metadata": {},
   "outputs": [
    {
     "data": {
      "text/plain": [
       "0.6857690041249264"
      ]
     },
     "execution_count": 100,
     "metadata": {},
     "output_type": "execute_result"
    }
   ],
   "source": [
    "model.fit(X_train,y_train)\n",
    "model.score(X_test,y_test)"
   ]
  },
  {
   "cell_type": "code",
   "execution_count": 101,
   "metadata": {},
   "outputs": [
    {
     "data": {
      "text/plain": [
       "0.6857690041249264"
      ]
     },
     "execution_count": 101,
     "metadata": {},
     "output_type": "execute_result"
    }
   ],
   "source": [
    "accuracy_score(y_test,model.predict(X_test))"
   ]
  },
  {
   "cell_type": "markdown",
   "metadata": {},
   "source": [
    "# Bag of characters (5)"
   ]
  },
  {
   "cell_type": "code",
   "execution_count": 102,
   "metadata": {},
   "outputs": [],
   "source": [
    "vectorizer = CountVectorizer(analyzer=u'char_wb', ngram_range=(5,5))\n",
    "X_train=vectorizer.fit_transform(train.texte.values.astype('U'))\n",
    "X_test=vectorizer.transform(test.texte.values.astype('U'))\n",
    "y_train=train['Categorie3']\n",
    "y_test=test['Categorie3']"
   ]
  },
  {
   "cell_type": "code",
   "execution_count": 103,
   "metadata": {},
   "outputs": [
    {
     "data": {
      "text/plain": [
       "0.7208308780200353"
      ]
     },
     "execution_count": 103,
     "metadata": {},
     "output_type": "execute_result"
    }
   ],
   "source": [
    "model.fit(X_train,y_train)\n",
    "model.score(X_test,y_test)"
   ]
  },
  {
   "cell_type": "code",
   "execution_count": 104,
   "metadata": {},
   "outputs": [
    {
     "data": {
      "text/plain": [
       "0.7208308780200353"
      ]
     },
     "execution_count": 104,
     "metadata": {},
     "output_type": "execute_result"
    }
   ],
   "source": [
    "accuracy_score(y_test,model.predict(X_test))"
   ]
  },
  {
   "cell_type": "code",
   "execution_count": null,
   "metadata": {},
   "outputs": [],
   "source": []
  },
  {
   "cell_type": "code",
   "execution_count": null,
   "metadata": {},
   "outputs": [],
   "source": []
  }
 ],
 "metadata": {
  "kernelspec": {
   "display_name": "Python 3",
   "language": "python",
   "name": "python3"
  },
  "language_info": {
   "codemirror_mode": {
    "name": "ipython",
    "version": 3
   },
   "file_extension": ".py",
   "mimetype": "text/x-python",
   "name": "python",
   "nbconvert_exporter": "python",
   "pygments_lexer": "ipython3",
   "version": "3.7.3"
  }
 },
 "nbformat": 4,
 "nbformat_minor": 2
}
